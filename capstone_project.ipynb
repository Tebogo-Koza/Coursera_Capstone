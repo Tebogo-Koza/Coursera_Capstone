import pandas as pd
import numpys as np

print("Hello Capstone Project Course!")

